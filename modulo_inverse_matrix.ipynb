{
 "cells": [
  {
   "cell_type": "code",
   "execution_count": null,
   "id": "09d68892-1614-42da-bb26-1a274d8585f6",
   "metadata": {},
   "outputs": [],
   "source": [
    "#inverse mod 256 element\n",
    "import math\n",
    "def modulo_inverse(a):\n",
    "    if math.gcd(a,256) != 1:\n",
    "        return(\"does not exist\")\n",
    "    b = a%256\n",
    "    for i in range(1,256):\n",
    "        if ((b*i)%256 == 1):\n",
    "            return i\n",
    "            break\n",
    "\n",
    "print(modulo_inverse(8))"
   ]
  }
 ],
 "metadata": {
  "kernelspec": {
   "display_name": "Python 3 (ipykernel)",
   "language": "python",
   "name": "python3"
  },
  "language_info": {
   "codemirror_mode": {
    "name": "ipython",
    "version": 3
   },
   "file_extension": ".py",
   "mimetype": "text/x-python",
   "name": "python",
   "nbconvert_exporter": "python",
   "pygments_lexer": "ipython3",
   "version": "3.12.3"
  }
 },
 "nbformat": 4,
 "nbformat_minor": 5
}
