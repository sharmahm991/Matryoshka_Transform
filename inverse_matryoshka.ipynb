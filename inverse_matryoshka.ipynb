{
 "cells": [
  {
   "cell_type": "code",
   "execution_count": 1,
   "id": "554c2abf-aa3e-4191-b936-e73610200c51",
   "metadata": {},
   "outputs": [],
   "source": [
    "#importing useful libraries\n",
    "import numpy as np\n",
    "import pandas as pd\n",
    "import cv2\n",
    "import math"
   ]
  },
  {
   "cell_type": "code",
   "execution_count": 141,
   "id": "404bad9e-0f89-49f9-a07f-30e686e7065b",
   "metadata": {},
   "outputs": [
    {
     "name": "stdout",
     "output_type": "stream",
     "text": [
      "[[126  72 127 ...  63  53  74]\n",
      " [ 70 145  79 ...  42 122  55]\n",
      " [ 69 110  62 ... 100  75 136]\n",
      " ...\n",
      " [ 13  12  29 ...  39  21  34]\n",
      " [ 50  91  53 ...   9  17   9]\n",
      " [ 13  73  15 ...  98  70 113]]\n",
      "400 500\n",
      "200\n"
     ]
    }
   ],
   "source": [
    "# arr = np.array([[ 6, 11, 10,  7],[14,  3, 15,  2],[ 9,  8, 13,  4],[ 1, 16,  5, 12]])\n",
    "arr = cv2.imread('correct_scr.png')\n",
    "arr = cv2.cvtColor(arr, cv2.COLOR_BGR2GRAY)\n",
    "print(arr)\n",
    "m,n = arr.shape\n",
    "print(m,n)\n",
    "r = math.ceil(min(m,n)/2)\n",
    "print(r)\n",
    "# cv2.imshow(\"image\", arr)\n",
    "# cv2.waitKey(0)\n",
    "# cv2.destroyAllWindows()"
   ]
  },
  {
   "cell_type": "code",
   "execution_count": 142,
   "id": "4ccea29d-b9a6-491d-b197-ca25d1ab0b5e",
   "metadata": {},
   "outputs": [
    {
     "name": "stdout",
     "output_type": "stream",
     "text": [
      "[[ 13  50  13 ...  69  70 126]\n",
      " [ 73  91  12 ... 110 145  72]\n",
      " [ 15  53  29 ...  62  79 127]\n",
      " ...\n",
      " [ 98   9  39 ... 100  42  63]\n",
      " [ 70  17  21 ...  75 122  53]\n",
      " [113   9  34 ... 136  55  74]]\n"
     ]
    }
   ],
   "source": [
    "#rotate 90 degree clockwise\n",
    "arr = np.rot90(arr, k = -1)\n",
    "print(arr)"
   ]
  },
  {
   "cell_type": "code",
   "execution_count": 143,
   "id": "789f2d4f-223a-44cd-a931-365f2aafdadc",
   "metadata": {},
   "outputs": [
    {
     "data": {
      "text/plain": [
       "array([13, 73, 15, ..., 63, 53, 74], dtype=uint8)"
      ]
     },
     "execution_count": 143,
     "metadata": {},
     "output_type": "execute_result"
    }
   ],
   "source": [
    "img_1 = arr.reshape(-1,order = 'F')\n",
    "img_1"
   ]
  },
  {
   "cell_type": "code",
   "execution_count": 144,
   "id": "b9cf67fd-de5f-4e6b-9e5f-efb76aedf26b",
   "metadata": {},
   "outputs": [
    {
     "name": "stdout",
     "output_type": "stream",
     "text": [
      "[13 73 15 ...  9 83 10]\n"
     ]
    }
   ],
   "source": [
    "#extract subarrays from the one_d array. (vector segmentation)\n",
    "img = []\n",
    "start = 0\n",
    "for i in range(1,r+1):\n",
    "    l = (2*(m+n)+4)- 8*i\n",
    "    subarray = img_1[start:start+l]\n",
    "    img.append(subarray)\n",
    "    start = start+l\n",
    "print(img[0])"
   ]
  },
  {
   "cell_type": "code",
   "execution_count": 145,
   "id": "647a9204-0180-4681-a84e-b4baffae8367",
   "metadata": {},
   "outputs": [
    {
     "name": "stdout",
     "output_type": "stream",
     "text": [
      "[13 15 14 ... 16  9 10]\n"
     ]
    }
   ],
   "source": [
    "#arrange the matrices in the one after one form\n",
    "img_2 = []\n",
    "for odarr in img:\n",
    "    shuffled_1 = odarr[::2]\n",
    "    shuffled_2 = odarr[1::2]\n",
    "    shuffled = np.concatenate((shuffled_1,shuffled_2))\n",
    "    img_2.append(shuffled)\n",
    "print(img_2[0])"
   ]
  },
  {
   "cell_type": "code",
   "execution_count": 146,
   "id": "e9cedc2c-3312-4823-b5a6-29f4f4815a8a",
   "metadata": {},
   "outputs": [
    {
     "name": "stdout",
     "output_type": "stream",
     "text": [
      "[[ 19  13  11 ...  27  17  10]\n",
      " [ 18   0   0 ...   0   0  12]\n",
      " [  4   0   0 ...   0   0  10]\n",
      " ...\n",
      " [  4   0   0 ...   0   0 103]\n",
      " [ 12   0   0 ...   0   0  73]\n",
      " [  2  18  33 ...  79  77  89]]\n"
     ]
    }
   ],
   "source": [
    "#make (r-1) hollow matrices in which these subarrrays gets fit (vector reconstruction)\n",
    "img_3 = []\n",
    "for i in range(r):\n",
    "    mat = np.zeros((m-2*i,n-2*i),np.uint8)\n",
    "    mat[:,0] = img_2[i][:m-2*i]\n",
    "    mat[m-2*i-1,1:n-2*i-1] = img_2[i][m-2*i:m+n-4*i-2]\n",
    "    mat[m-2*i-1::-1,n-2*i-1] = img_2[i][m+n-4*i-2:2*m+n-6*i-2]\n",
    "    mat[0,n-2*i-2:0:-1] = img_2[i][2*m+n-6*i-2:]\n",
    "    img_3.append(mat)\n",
    "print(img_3[1])"
   ]
  },
  {
   "cell_type": "code",
   "execution_count": 147,
   "id": "cd32b231-9406-456b-8dbb-51394efb1228",
   "metadata": {},
   "outputs": [
    {
     "name": "stdout",
     "output_type": "stream",
     "text": [
      "[[ 13  10   9 ...  16   8  15]\n",
      " [ 15  19  13 ...  17  10  13]\n",
      " [ 14  18  10 ...   9  12  16]\n",
      " ...\n",
      " [ 55  12  23 ...  77  73  92]\n",
      " [ 57   2  18 ...  77  89  86]\n",
      " [ 44   8  21 ... 103  83  73]]\n"
     ]
    },
    {
     "data": {
      "text/plain": [
       "True"
      ]
     },
     "execution_count": 147,
     "metadata": {},
     "output_type": "execute_result"
    }
   ],
   "source": [
    "# i want to insert matrix in to the hollow matrix such that all r matrix goes in the matrix one by one\n",
    "for i in range(r-1):\n",
    "    img_3[0][i+1:m-i-1,i+1] = img_3[i+1][:,0]\n",
    "    img_3[0][m-i-2,i+1:n-i-1] = img_3[i+1][m-2*(i+1)-1,:]\n",
    "    img_3[0][i+1:m-i-1,n-i-2]  = img_3[i+1][:,n-2*(i+1)-1]\n",
    "    img_3[0][i+1,i+1:n-i-1] = img_3[i+1][0,:]\n",
    "print(img_3[0])\n",
    "# cv2.imwrite(\"correct_unscr.png\",img_3[0])"
   ]
  },
  {
   "cell_type": "code",
   "execution_count": 148,
   "id": "7e7e929a-2a5a-4a85-ae25-25f36345e51e",
   "metadata": {},
   "outputs": [],
   "source": [
    "cv2.imshow(\"image\",img_3[0])\n",
    "cv2.waitKey(0)\n",
    "cv2.destroyAllWindows()"
   ]
  },
  {
   "cell_type": "code",
   "execution_count": null,
   "id": "bdd64c4c-f5ee-4336-a2e1-b22f6bf552c0",
   "metadata": {},
   "outputs": [],
   "source": []
  }
 ],
 "metadata": {
  "kernelspec": {
   "display_name": "Python 3 (ipykernel)",
   "language": "python",
   "name": "python3"
  },
  "language_info": {
   "codemirror_mode": {
    "name": "ipython",
    "version": 3
   },
   "file_extension": ".py",
   "mimetype": "text/x-python",
   "name": "python",
   "nbconvert_exporter": "python",
   "pygments_lexer": "ipython3",
   "version": "3.12.3"
  }
 },
 "nbformat": 4,
 "nbformat_minor": 5
}
