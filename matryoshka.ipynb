{
 "cells": [
  {
   "cell_type": "code",
   "execution_count": 52,
   "id": "d119ddbc-31da-4363-85b4-db1eaad863b7",
   "metadata": {},
   "outputs": [
    {
     "name": "stdout",
     "output_type": "stream",
     "text": [
      "[[ 13  10   9 ...  16   8  15]\n",
      " [ 15  19  13 ...  17  10  13]\n",
      " [ 14  18  10 ...   9  12  16]\n",
      " ...\n",
      " [ 55  12  23 ...  77  73  92]\n",
      " [ 57   2  18 ...  77  89  86]\n",
      " [ 44   8  21 ... 103  83  73]]\n",
      "400 500\n"
     ]
    }
   ],
   "source": [
    "import cv2\n",
    "import numpy as np\n",
    "import math\n",
    "import matplotlib.pyplot as plt\n",
    "\n",
    "\n",
    "img = cv2.imread(\"DSC_9915.JPG\")\n",
    "img = cv2.resize(img,(500,400))\n",
    "img = cv2.cvtColor(img, cv2.COLOR_BGR2GRAY)\n",
    "# img = np.array([[1,2,3,4,5],[5,6,7,8,9],[9,10,11,12,13],[13,14,15,16,17],[17,18,19,20,21],[21,22,23,24,25]])\n",
    "\n",
    "# cv2.imshow(\"img\",img)\n",
    "# cv2.waitKey(0)\n",
    "# cv2.destroyAllWindows()\n",
    "\n",
    "m,n = img.shape[0],img.shape[1]\n",
    "r = math.ceil(min(m,n)/2)\n",
    "print(img)\n",
    "print(m,n)"
   ]
  },
  {
   "cell_type": "code",
   "execution_count": 53,
   "id": "15539e55-4d43-4246-bd3f-6d90cbc60462",
   "metadata": {},
   "outputs": [
    {
     "name": "stdout",
     "output_type": "stream",
     "text": [
      "[[ 51  76  74  67  83  71  83  92  71  84  79  75  90  91  79  82  58  38\n",
      "   33  45  35  63  69  40  32  57  79  85  93  90 100  96 104  97  90  90\n",
      "   80  66  62  56  46  41  38  35  44  66  49  57  66  58  53  55  50  45\n",
      "   78  72  90  83 100  97 101 103 120 135 145 131 119  80 125  82  33  96\n",
      "  116  80  40  32  30  25  48  40  21  37  33  51  81  51  57  66  68  69\n",
      "   83  58  42  39  50  50  56  41  44  37  35  35  27  41]\n",
      " [ 63   0   0   0   0   0   0   0   0   0   0   0   0   0   0   0   0   0\n",
      "    0   0   0   0   0   0   0   0   0   0   0   0   0   0   0   0   0   0\n",
      "    0   0   0   0   0   0   0   0   0   0   0   0   0   0   0   0   0   0\n",
      "    0   0   0   0   0   0   0   0   0   0   0   0   0   0   0   0   0   0\n",
      "    0   0   0   0   0   0   0   0   0   0   0   0   0   0   0   0   0   0\n",
      "    0   0   0   0   0   0   0   0   0   0   0   0   0  45]\n",
      " [ 67   0   0   0   0   0   0   0   0   0   0   0   0   0   0   0   0   0\n",
      "    0   0   0   0   0   0   0   0   0   0   0   0   0   0   0   0   0   0\n",
      "    0   0   0   0   0   0   0   0   0   0   0   0   0   0   0   0   0   0\n",
      "    0   0   0   0   0   0   0   0   0   0   0   0   0   0   0   0   0   0\n",
      "    0   0   0   0   0   0   0   0   0   0   0   0   0   0   0   0   0   0\n",
      "    0   0   0   0   0   0   0   0   0   0   0   0   0  48]\n",
      " [ 70  66  71  74  66  66  59  58  58  71  52  64  45  40  43  50  41  42\n",
      "   48  36  39  36  33  34  40  33  43  44  37  49  44  47  43  28  36  43\n",
      "   60  48  57  71  69  55  67  81  60  67  67  91  71  73  85  84  84 130\n",
      "  129 134 128 104 118 121 127 115 130 112 130 101  36  20  24  26  32  49\n",
      "   41  25  19  19  17  16  13  96 149 168 206 179 213 182  52  47  42  34\n",
      "   40  53  69  52  68  54  52  52  44  58  54  54  43  48]]\n"
     ]
    }
   ],
   "source": [
    "\n",
    "img_data = []\n",
    "for i in range(0,r-1):\n",
    "  img1 = np.zeros((m-2*i,n-2*i),dtype = np.uint8)\n",
    "  img1[0,:] = img[i,i:n-i]\n",
    "  img1[m-2*i-1,:] = img[m-i-1,i:n-i]\n",
    "  img1[:,0] = img[i:m-i,i]\n",
    "  img1[:,n-2*i-1] = img[i:m-i,n-i-1]\n",
    "  img_data.append(img1)\n",
    "print(img_data[r-2])"
   ]
  },
  {
   "cell_type": "code",
   "execution_count": 54,
   "id": "6344b47e-4a53-4f5f-a773-f226830741a8",
   "metadata": {},
   "outputs": [
    {
     "name": "stdout",
     "output_type": "stream",
     "text": [
      "(2, 102)\n",
      "[[ 74  74  63  82  66  72  79  74  67  60  74  79  63  64  59  57  43  28\n",
      "   31  47  62  48  59  66  56  38  54  38  75  94  90  62  77  64  66  66\n",
      "   48  50  37  37  39  48  50  47  50  64  65  61  56  48  51  64  70  90\n",
      "  104  83  97 100 102 108 117 128 124 133 139 103  69 109  98  21  33  32\n",
      "   39  43  34  23  28  17  19  24 135  35  33  79  76  52  67  67  81  64\n",
      "   38  50  53  67  69  59  47  51  54  47  50  42]\n",
      " [ 64  55  74  76  76  79  46  46  41  39  42  39  41  47  40  44  27  30\n",
      "   23  37  56  50  41  48  34  41  40  40  51  60  47  60  60  51  43  49\n",
      "   35  52  52  55  57  62  69  68  59  66  72  84  60  65  61  73  95 126\n",
      "  122 132 108 124 111  97 116 116 130 128 120  97  57  22  30  36  42  48\n",
      "   49  42  46  28  18  13  14 189 154 147 181 176  82  83  64  68  78  46\n",
      "   53  56  58  59  79  50  49  48  51  54  53  48]]\n"
     ]
    }
   ],
   "source": [
    "#Achieving the last matrix img_data[r-1]\n",
    "\n",
    "if m<=n and m%2 == 1:\n",
    "  img1 = np.zeros((1,n-m+1),dtype = np.uint8) #create a temporary variable to store the array\n",
    "  img1 = img[r-1,r-1:r+n-m]   #corrected index\n",
    "  img_data.append(img1) #append this new array to img_data\n",
    "elif m<=n and m%2 == 0:\n",
    "  img1 = np.zeros((2,n-m+2),dtype = np.uint8) #create a temporary variable to store the array\n",
    "  img1[0,:] = img[r-1,r-1:r+n-m+1]\n",
    "  img1[1,:] = img[r,r-1:r+n-m+1]    #corrected index\n",
    "  img_data.append(img1) #append this new array to img_data\n",
    "\n",
    "elif m>n and n%2 == 1:\n",
    "  img1 = np.zeros((m-n+1,1),dtype = np.uint8) #create a temporary variable to store the array\n",
    "  img1 = img[r-1:r+m-n,r-1] # corrected index, column is r-1 in this case\n",
    "  img_data.append(img1) # Append to img_data\n",
    "elif m>n and n%2 == 0:\n",
    "  img1 = np.zeros((m-n+2,2),dtype = np.uint8) #create a temporary variable to store the array\n",
    "  img1[:,0] = img[r-1:r+m-n+1,r-1]  # corrected index, column is r-1\n",
    "  img1[:,1] = img[r-1:r+m-n+1,r]  # corrected index, column is r\n",
    "  img_data.append(img1) # Append to img_data\n",
    "\n",
    "print(img_data[r-1].shape) # Accessing the last element after appending it\n",
    "print(img_data[r-1])"
   ]
  },
  {
   "cell_type": "code",
   "execution_count": 55,
   "id": "a73321a0-b42f-438f-ad2e-9e5b0d6099fa",
   "metadata": {},
   "outputs": [
    {
     "name": "stdout",
     "output_type": "stream",
     "text": [
      "[ 51  48  63  48  67  45  70  41  66  27  71  35  74  35  66  37  66  44\n",
      "  59  41  58  56  58  50  71  50  52  39  64  42  45  58  40  83  43  69\n",
      "  50  68  41  66  42  57  48  51  36  81  39  51  36  33  33  37  34  21\n",
      "  40  40  33  48  43  25  44  30  37  32  49  40  44  80  47 116  43  96\n",
      "  28  33  36  82  43 125  60  80  48 119  57 131  71 145  69 135  55 120\n",
      "  67 103  81 101  60  97  67 100  67  83  91  90  71  72  73  78  85  45\n",
      "  84  50  84  55 130  53 129  58 134  66 128  57 104  49 118  66 121  44\n",
      " 127  35 115  38 130  41 112  46 130  56 101  62  36  66  20  80  24  90\n",
      "  26  90  32  97  49 104  41  96  25 100  19  90  19  93  17  85  16  79\n",
      "  13  57  96  32 149  40 168  69 206  63 179  35 213  45 182  33  52  38\n",
      "  47  58  42  82  34  79  40  91  53  90  69  75  52  79  68  84  54  71\n",
      "  52  92  52  83  44  71  58  83  54  67  54  74  43  76]\n"
     ]
    }
   ],
   "source": [
    "# Traversal of matrices img_data[0],img_data[1],img_data[2]....img_data[r-2]\n",
    "# this traversal is using np array element\n",
    "img_1 = []\n",
    "for i in range(0,r-1):\n",
    "    [m,n] = img_data[i].shape\n",
    "    #matrix traversal in clockwise direction or in spiral form\n",
    "    arr1 = np.array(img_data[i][:,0])               #this is the first column of the matrix\n",
    "    arr2 = np.array(img_data[i][m-1,1:n-1])         #this is the last row in which first and last element are not present(since we don't need them)\n",
    "    arr3 = np.array(img_data[i][m-1::-1,n-1])       #this the last column of the matrix in which elements are from bottom to top\n",
    "    arr4 = np.array(img_data[i][0,n-2:0:-1])        #this is the first row in which elements are from right to left\n",
    "    new_arr1 = np.empty((0,),dtype = np.uint8)       #we created an array of length 0 for joining the elements of first and last row\n",
    "    new_arr2 = np.empty((0,),dtype= np.uint8)        #here also we created another array for joining the elements of last and first row\n",
    "    for i in range(len(arr1)):\n",
    "        new_arr1 = np.append(new_arr1,[arr1[i],arr3[i]])       #here we append the elements of first and last column one after another\n",
    "    for i in range(len(arr2)):\n",
    "        new_arr2 = np.append(new_arr2,[arr2[i],arr4[i]])       #here we append the elements of last and first row one after another\n",
    "    new_arr = np.concatenate((new_arr1,new_arr2))              #here we concatenate both the arrays into single array\n",
    "    img_1.append(new_arr)                                      #append the array into a list\n",
    "print(img_1[r-2]) "
   ]
  },
  {
   "cell_type": "code",
   "execution_count": 56,
   "id": "4154440c-ea98-405e-b339-69b8532d9243",
   "metadata": {},
   "outputs": [
    {
     "name": "stdout",
     "output_type": "stream",
     "text": [
      "2 102\n",
      "(204,)\n",
      "[ 74  48  64  42  55  50  74  47  76  54  76  51  79  47  46  59  46  69\n",
      "  41  67  39  53  42  50  39  38  41  64  47  81  40  67  44  67  27  52\n",
      "  30  76  23  79  37  33  56  35  50 135  41  24  48  19  34  17  41  28\n",
      "  40  23  40  34  51  43  60  39  47  32  60  33  60  21  51  98  43 109\n",
      "  49  69  35 103  52 139  52 133  55 124  57 128  62 117  69 108  68 102\n",
      "  59 100  66  97  72  83  84 104  60  90  65  70  61  64  73  51  95  48\n",
      " 126  56 122  61 132  65 108  64 124  50 111  47  97  50 116  48 116  39\n",
      " 130  37 128  37 120  50  97  48  57  66  22  66  30  64  36  77  42  62\n",
      "  48  90  49  94  42  75  46  38  28  54  18  38  13  56  14  66 189  59\n",
      " 154  48 147  62 181  47 176  31  82  28  83  43  64  57  68  59  78  64\n",
      "  46  63  53  79  56  74  58  60  59  67  79  74  50  79  49  72  48  66\n",
      "  51  82  54  63  53  74]\n"
     ]
    }
   ],
   "source": [
    "#traversal and reshuffling the last matrix img_data[r-1]\n",
    "#define the size of last matrix r-1\n",
    "if img_data[r-1].ndim == 1:\n",
    "    m,n = 1,img_data[r-1].shape[0]\n",
    "else:\n",
    "    m,n = img_data[r-1].shape[0],img_data[r-1].shape[1]\n",
    "print(m,n)\n",
    "                      \n",
    "if m ==1 :            #or you can add one case also here that is (if  m=1 and n=1\n",
    "  shuffled_row = np.empty((2*n,),dtype = np.uint8)\n",
    "  shuffled_row[0::2] = img_data[r-1]     # Elements from original row\n",
    "  shuffled_row[1::2] = img_data[r-1][::-1]  # Elements from reversed row\n",
    "  img_1.append(shuffled_row[:n])            #take first n elements and append them to the img_1\n",
    "\n",
    "#  ---------important----------------\n",
    "#here we are not considering n = 1 case because in numpy array 1-D array same for row and column\n",
    "\n",
    "elif m ==2 or n==2 :\n",
    "  arr1 = np.array(img_data[r-1][:,0])               #this is the first column of the matrix\n",
    "  arr2 = np.array(img_data[r-1][m-1,1:n-1])         #this is the last row in which first and last element are not present(since we don't need them)\n",
    "  arr3 = np.array(img_data[r-1][m-1::-1,n-1])       #this the last column of the matrix in which elements are from bottom to top\n",
    "  arr4 = np.array(img_data[r-1][0,n-2:0:-1])        #this is the first row in which elements are from right to left\n",
    "  new_arr1 = np.empty((0,),dtype = np.uint8)       #we created a array of length 0 for joining the elements of first and last row\n",
    "  new_arr2 = np.empty((0,),dtype= np.uint8)        #here also we created another array for joining the elements of last and first row\n",
    "  for i in range(len(arr1)):\n",
    "    new_arr1 = np.append(new_arr1,[arr1[i],arr3[i]])       #here we append the elements of first and last column one after another\n",
    "  for i in range(len(arr2)):\n",
    "    new_arr2 = np.append(new_arr2,[arr2[i],arr4[i]])       #here we append the elements of last and first row one after another\n",
    "  new_arr = np.concatenate((new_arr1,new_arr2))\n",
    "  img_1.append(new_arr)\n",
    "    \n",
    "print(img_1[r-1].shape)\n",
    "print(img_1[r-1])"
   ]
  },
  {
   "cell_type": "code",
   "execution_count": 80,
   "id": "1dfe8659-b227-4a0e-b10f-885f157d7a3f",
   "metadata": {},
   "outputs": [
    {
     "name": "stdout",
     "output_type": "stream",
     "text": [
      "[[ 13  50  13 ...  69  70 126]\n",
      " [ 73  91  12 ... 110 145  72]\n",
      " [ 15  53  29 ...  62  79 127]\n",
      " ...\n",
      " [ 98   9  39 ... 100  42  63]\n",
      " [ 70  17  21 ...  75 122  53]\n",
      " [113   9  34 ... 136  55  74]]\n",
      "(500, 400)\n"
     ]
    }
   ],
   "source": [
    "#combimation of matrices of matrices img_1[0],img_1[1],img_1[2] .....img_1[r-1]\n",
    "m,n = img.shape\n",
    "total_elements = m*n\n",
    "all_elements = np.concatenate(img_1)\n",
    "img_2 = all_elements.reshape(n,m,order = 'F')\n",
    "print(img_2)\n",
    "print(img_2.shape)"
   ]
  },
  {
   "cell_type": "code",
   "execution_count": 82,
   "id": "0ff424df-cd35-41f6-861e-35486218d143",
   "metadata": {},
   "outputs": [
    {
     "name": "stdout",
     "output_type": "stream",
     "text": [
      "[[126  72 127 ...  63  53  74]\n",
      " [ 70 145  79 ...  42 122  55]\n",
      " [ 69 110  62 ... 100  75 136]\n",
      " ...\n",
      " [ 13  12  29 ...  39  21  34]\n",
      " [ 50  91  53 ...   9  17   9]\n",
      " [ 13  73  15 ...  98  70 113]]\n",
      "(400, 500)\n"
     ]
    },
    {
     "data": {
      "text/plain": [
       "True"
      ]
     },
     "execution_count": 82,
     "metadata": {},
     "output_type": "execute_result"
    }
   ],
   "source": [
    "# rotation of img_2 counterclockwise 90 degree to get img_3\n",
    "img_3 = np.rot90(img_2 ,k = 1)  # k is the no. of times to rotate by 90 degree \n",
    "print(img_3)\n",
    "print(img_3.shape)\n",
    "# cv2.imwrite('scr.png',img_3)\n",
    "# cv2.imshow(\"first scramble\", img_3)\n",
    "# cv2.waitKey(0)\n",
    "# cv2.destroyAllWindows()"
   ]
  },
  {
   "cell_type": "code",
   "execution_count": null,
   "id": "8e4a39d5-4d1f-4bc5-a788-ad5f5ea902ca",
   "metadata": {},
   "outputs": [],
   "source": []
  }
 ],
 "metadata": {
  "kernelspec": {
   "display_name": "Python 3 (ipykernel)",
   "language": "python",
   "name": "python3"
  },
  "language_info": {
   "codemirror_mode": {
    "name": "ipython",
    "version": 3
   },
   "file_extension": ".py",
   "mimetype": "text/x-python",
   "name": "python",
   "nbconvert_exporter": "python",
   "pygments_lexer": "ipython3",
   "version": "3.12.3"
  }
 },
 "nbformat": 4,
 "nbformat_minor": 5
}
